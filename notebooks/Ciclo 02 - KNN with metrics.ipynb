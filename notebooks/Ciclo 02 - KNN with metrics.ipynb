{
 "cells": [
  {
   "cell_type": "markdown",
   "id": "b00f794e",
   "metadata": {},
   "source": [
    "# 1. Import libraries "
   ]
  },
  {
   "cell_type": "code",
   "execution_count": 26,
   "id": "6a760894",
   "metadata": {
    "ExecuteTime": {
     "end_time": "2023-02-16T02:30:31.137069Z",
     "start_time": "2023-02-16T02:30:31.134421Z"
    }
   },
   "outputs": [],
   "source": [
    "import pandas as pd \n",
    "from sklearn.neighbors import KNeighborsClassifier\n",
    "from sklearn import metrics as mt \n"
   ]
  },
  {
   "cell_type": "markdown",
   "id": "e64793db",
   "metadata": {},
   "source": [
    "# 2. Dataset"
   ]
  },
  {
   "cell_type": "code",
   "execution_count": 2,
   "id": "b8e36c23",
   "metadata": {
    "ExecuteTime": {
     "end_time": "2023-02-16T02:15:47.443126Z",
     "start_time": "2023-02-16T02:15:47.412821Z"
    }
   },
   "outputs": [],
   "source": [
    "dataset_path = '../datasets/train.csv'\n",
    "df = pd.read_csv(dataset_path)"
   ]
  },
  {
   "cell_type": "code",
   "execution_count": 3,
   "id": "ca488687",
   "metadata": {
    "ExecuteTime": {
     "end_time": "2023-02-16T02:15:47.464114Z",
     "start_time": "2023-02-16T02:15:47.444361Z"
    }
   },
   "outputs": [
    {
     "data": {
      "text/html": [
       "<div>\n",
       "<style scoped>\n",
       "    .dataframe tbody tr th:only-of-type {\n",
       "        vertical-align: middle;\n",
       "    }\n",
       "\n",
       "    .dataframe tbody tr th {\n",
       "        vertical-align: top;\n",
       "    }\n",
       "\n",
       "    .dataframe thead th {\n",
       "        text-align: right;\n",
       "    }\n",
       "</style>\n",
       "<table border=\"1\" class=\"dataframe\">\n",
       "  <thead>\n",
       "    <tr style=\"text-align: right;\">\n",
       "      <th></th>\n",
       "      <th>id_cliente</th>\n",
       "      <th>idade</th>\n",
       "      <th>saldo_atual</th>\n",
       "      <th>divida_atual</th>\n",
       "      <th>renda_anual</th>\n",
       "      <th>valor_em_investimentos</th>\n",
       "      <th>taxa_utilizacao_credito</th>\n",
       "      <th>num_emprestimos</th>\n",
       "      <th>num_contas_bancarias</th>\n",
       "      <th>num_cartoes_credito</th>\n",
       "      <th>dias_atraso_dt_venc</th>\n",
       "      <th>num_pgtos_atrasados</th>\n",
       "      <th>num_consultas_credito</th>\n",
       "      <th>taxa_juros</th>\n",
       "      <th>investe_exterior</th>\n",
       "      <th>pessoa_polit_exp</th>\n",
       "      <th>limite_adicional</th>\n",
       "    </tr>\n",
       "  </thead>\n",
       "  <tbody>\n",
       "    <tr>\n",
       "      <th>0</th>\n",
       "      <td>1767</td>\n",
       "      <td>21</td>\n",
       "      <td>278.172008</td>\n",
       "      <td>2577.05</td>\n",
       "      <td>24196.89636</td>\n",
       "      <td>104.306544</td>\n",
       "      <td>31.038763</td>\n",
       "      <td>6</td>\n",
       "      <td>5</td>\n",
       "      <td>7</td>\n",
       "      <td>21</td>\n",
       "      <td>14</td>\n",
       "      <td>9</td>\n",
       "      <td>15</td>\n",
       "      <td>Não</td>\n",
       "      <td>Não</td>\n",
       "      <td>Negar</td>\n",
       "    </tr>\n",
       "    <tr>\n",
       "      <th>1</th>\n",
       "      <td>11920</td>\n",
       "      <td>40</td>\n",
       "      <td>268.874152</td>\n",
       "      <td>2465.39</td>\n",
       "      <td>19227.37796</td>\n",
       "      <td>69.858778</td>\n",
       "      <td>36.917093</td>\n",
       "      <td>5</td>\n",
       "      <td>8</td>\n",
       "      <td>5</td>\n",
       "      <td>40</td>\n",
       "      <td>23</td>\n",
       "      <td>10</td>\n",
       "      <td>18</td>\n",
       "      <td>Não</td>\n",
       "      <td>Não</td>\n",
       "      <td>Negar</td>\n",
       "    </tr>\n",
       "    <tr>\n",
       "      <th>2</th>\n",
       "      <td>8910</td>\n",
       "      <td>36</td>\n",
       "      <td>446.643127</td>\n",
       "      <td>1055.29</td>\n",
       "      <td>42822.28223</td>\n",
       "      <td>134.201478</td>\n",
       "      <td>34.561714</td>\n",
       "      <td>0</td>\n",
       "      <td>3</td>\n",
       "      <td>6</td>\n",
       "      <td>26</td>\n",
       "      <td>13</td>\n",
       "      <td>3</td>\n",
       "      <td>15</td>\n",
       "      <td>Sim</td>\n",
       "      <td>Não</td>\n",
       "      <td>Negar</td>\n",
       "    </tr>\n",
       "    <tr>\n",
       "      <th>3</th>\n",
       "      <td>4964</td>\n",
       "      <td>58</td>\n",
       "      <td>321.141267</td>\n",
       "      <td>703.05</td>\n",
       "      <td>51786.82600</td>\n",
       "      <td>297.350067</td>\n",
       "      <td>31.493561</td>\n",
       "      <td>0</td>\n",
       "      <td>3</td>\n",
       "      <td>7</td>\n",
       "      <td>12</td>\n",
       "      <td>7</td>\n",
       "      <td>2</td>\n",
       "      <td>1</td>\n",
       "      <td>Sim</td>\n",
       "      <td>Não</td>\n",
       "      <td>Negar</td>\n",
       "    </tr>\n",
       "    <tr>\n",
       "      <th>4</th>\n",
       "      <td>10100</td>\n",
       "      <td>35</td>\n",
       "      <td>428.716114</td>\n",
       "      <td>891.29</td>\n",
       "      <td>44626.85346</td>\n",
       "      <td>134.201478</td>\n",
       "      <td>28.028887</td>\n",
       "      <td>2</td>\n",
       "      <td>8</td>\n",
       "      <td>7</td>\n",
       "      <td>24</td>\n",
       "      <td>10</td>\n",
       "      <td>8</td>\n",
       "      <td>20</td>\n",
       "      <td>Sim</td>\n",
       "      <td>Não</td>\n",
       "      <td>Negar</td>\n",
       "    </tr>\n",
       "  </tbody>\n",
       "</table>\n",
       "</div>"
      ],
      "text/plain": [
       "   id_cliente  idade  saldo_atual  divida_atual  renda_anual  \\\n",
       "0        1767     21   278.172008       2577.05  24196.89636   \n",
       "1       11920     40   268.874152       2465.39  19227.37796   \n",
       "2        8910     36   446.643127       1055.29  42822.28223   \n",
       "3        4964     58   321.141267        703.05  51786.82600   \n",
       "4       10100     35   428.716114        891.29  44626.85346   \n",
       "\n",
       "   valor_em_investimentos  taxa_utilizacao_credito  num_emprestimos  \\\n",
       "0              104.306544                31.038763                6   \n",
       "1               69.858778                36.917093                5   \n",
       "2              134.201478                34.561714                0   \n",
       "3              297.350067                31.493561                0   \n",
       "4              134.201478                28.028887                2   \n",
       "\n",
       "   num_contas_bancarias  num_cartoes_credito  dias_atraso_dt_venc  \\\n",
       "0                     5                    7                   21   \n",
       "1                     8                    5                   40   \n",
       "2                     3                    6                   26   \n",
       "3                     3                    7                   12   \n",
       "4                     8                    7                   24   \n",
       "\n",
       "   num_pgtos_atrasados  num_consultas_credito  taxa_juros investe_exterior  \\\n",
       "0                   14                      9          15              Não   \n",
       "1                   23                     10          18              Não   \n",
       "2                   13                      3          15              Sim   \n",
       "3                    7                      2           1              Sim   \n",
       "4                   10                      8          20              Sim   \n",
       "\n",
       "  pessoa_polit_exp limite_adicional  \n",
       "0              Não            Negar  \n",
       "1              Não            Negar  \n",
       "2              Não            Negar  \n",
       "3              Não            Negar  \n",
       "4              Não            Negar  "
      ]
     },
     "execution_count": 3,
     "metadata": {},
     "output_type": "execute_result"
    }
   ],
   "source": [
    "df.head()"
   ]
  },
  {
   "cell_type": "code",
   "execution_count": 12,
   "id": "55f44f90",
   "metadata": {
    "ExecuteTime": {
     "end_time": "2023-02-16T02:17:16.600789Z",
     "start_time": "2023-02-16T02:17:16.591361Z"
    }
   },
   "outputs": [
    {
     "data": {
      "text/plain": [
       "Negar       7995\n",
       "Conceder    1505\n",
       "Name: limite_adicional, dtype: int64"
      ]
     },
     "execution_count": 12,
     "metadata": {},
     "output_type": "execute_result"
    }
   ],
   "source": [
    "df.loc[:, 'limite_adicional'].value_counts()"
   ]
  },
  {
   "cell_type": "code",
   "execution_count": 13,
   "id": "eec3f6c7",
   "metadata": {
    "ExecuteTime": {
     "end_time": "2023-02-16T02:18:10.021694Z",
     "start_time": "2023-02-16T02:18:10.015854Z"
    }
   },
   "outputs": [
    {
     "data": {
      "text/plain": [
       "Negar       0.841579\n",
       "Conceder    0.158421\n",
       "Name: limite_adicional, dtype: float64"
      ]
     },
     "execution_count": 13,
     "metadata": {},
     "output_type": "execute_result"
    }
   ],
   "source": [
    "df.loc[:, 'limite_adicional'].value_counts(normalize=True)"
   ]
  },
  {
   "cell_type": "markdown",
   "id": "6ddd066c",
   "metadata": {},
   "source": [
    "# 3. Seleção de features"
   ]
  },
  {
   "cell_type": "code",
   "execution_count": 4,
   "id": "92a73fee",
   "metadata": {
    "ExecuteTime": {
     "end_time": "2023-02-16T02:15:47.470121Z",
     "start_time": "2023-02-16T02:15:47.466897Z"
    }
   },
   "outputs": [
    {
     "data": {
      "text/plain": [
       "Index(['id_cliente', 'idade', 'saldo_atual', 'divida_atual', 'renda_anual',\n",
       "       'valor_em_investimentos', 'taxa_utilizacao_credito', 'num_emprestimos',\n",
       "       'num_contas_bancarias', 'num_cartoes_credito', 'dias_atraso_dt_venc',\n",
       "       'num_pgtos_atrasados', 'num_consultas_credito', 'taxa_juros',\n",
       "       'investe_exterior', 'pessoa_polit_exp', 'limite_adicional'],\n",
       "      dtype='object')"
      ]
     },
     "execution_count": 4,
     "metadata": {},
     "output_type": "execute_result"
    }
   ],
   "source": [
    "df.columns"
   ]
  },
  {
   "cell_type": "code",
   "execution_count": 5,
   "id": "46340396",
   "metadata": {
    "ExecuteTime": {
     "end_time": "2023-02-16T02:15:47.476556Z",
     "start_time": "2023-02-16T02:15:47.471321Z"
    }
   },
   "outputs": [],
   "source": [
    "features = ['idade', 'saldo_atual', 'divida_atual', 'renda_anual',\n",
    "       'valor_em_investimentos', 'taxa_utilizacao_credito', 'num_emprestimos',\n",
    "       'num_contas_bancarias', 'num_cartoes_credito', 'dias_atraso_dt_venc',\n",
    "       'num_pgtos_atrasados', 'num_consultas_credito', 'taxa_juros']\n",
    "label = 'limite_adicional'\n",
    "\n",
    "x_train = df.loc[:, features]\n",
    "y_train = df.loc[:, label]"
   ]
  },
  {
   "cell_type": "code",
   "execution_count": 6,
   "id": "f75e25ea",
   "metadata": {
    "ExecuteTime": {
     "end_time": "2023-02-16T02:15:47.482427Z",
     "start_time": "2023-02-16T02:15:47.478106Z"
    }
   },
   "outputs": [
    {
     "data": {
      "text/plain": [
       "0       Negar\n",
       "1       Negar\n",
       "2       Negar\n",
       "3       Negar\n",
       "4       Negar\n",
       "        ...  \n",
       "9495    Negar\n",
       "9496    Negar\n",
       "9497    Negar\n",
       "9498    Negar\n",
       "9499    Negar\n",
       "Name: limite_adicional, Length: 9500, dtype: object"
      ]
     },
     "execution_count": 6,
     "metadata": {},
     "output_type": "execute_result"
    }
   ],
   "source": [
    "y_train"
   ]
  },
  {
   "cell_type": "markdown",
   "id": "79e94f07",
   "metadata": {},
   "source": [
    "# 4. Treinamento"
   ]
  },
  {
   "cell_type": "code",
   "execution_count": 7,
   "id": "42f578da",
   "metadata": {
    "ExecuteTime": {
     "end_time": "2023-02-16T02:15:47.563173Z",
     "start_time": "2023-02-16T02:15:47.541719Z"
    }
   },
   "outputs": [
    {
     "data": {
      "text/plain": [
       "KNeighborsClassifier(n_neighbors=7)"
      ]
     },
     "execution_count": 7,
     "metadata": {},
     "output_type": "execute_result"
    }
   ],
   "source": [
    "# definição de parâmetros do treinamento\n",
    "k = 7\n",
    "knn_classifier = KNeighborsClassifier(n_neighbors = k)\n",
    "\n",
    "# treinamento do algoritmo\n",
    "knn_classifier.fit(x_train, y_train)"
   ]
  },
  {
   "cell_type": "code",
   "execution_count": 8,
   "id": "23f00e3d",
   "metadata": {
    "ExecuteTime": {
     "end_time": "2023-02-16T02:15:48.063613Z",
     "start_time": "2023-02-16T02:15:47.721908Z"
    }
   },
   "outputs": [],
   "source": [
    "# vamos fazer a predição no mesmo conjunto de treino, só para testar\n",
    "y_pred = knn_classifier.predict(x_train)"
   ]
  },
  {
   "cell_type": "code",
   "execution_count": 9,
   "id": "e6f72745",
   "metadata": {
    "ExecuteTime": {
     "end_time": "2023-02-16T02:15:48.068769Z",
     "start_time": "2023-02-16T02:15:48.065345Z"
    }
   },
   "outputs": [
    {
     "data": {
      "text/plain": [
       "array(['Negar', 'Negar', 'Negar', ..., 'Negar', 'Negar', 'Negar'],\n",
       "      dtype=object)"
      ]
     },
     "execution_count": 9,
     "metadata": {},
     "output_type": "execute_result"
    }
   ],
   "source": [
    "y_pred"
   ]
  },
  {
   "cell_type": "code",
   "execution_count": 10,
   "id": "5bb82e90",
   "metadata": {
    "ExecuteTime": {
     "end_time": "2023-02-16T02:15:48.139936Z",
     "start_time": "2023-02-16T02:15:48.126755Z"
    }
   },
   "outputs": [
    {
     "data": {
      "text/html": [
       "<div>\n",
       "<style scoped>\n",
       "    .dataframe tbody tr th:only-of-type {\n",
       "        vertical-align: middle;\n",
       "    }\n",
       "\n",
       "    .dataframe tbody tr th {\n",
       "        vertical-align: top;\n",
       "    }\n",
       "\n",
       "    .dataframe thead th {\n",
       "        text-align: right;\n",
       "    }\n",
       "</style>\n",
       "<table border=\"1\" class=\"dataframe\">\n",
       "  <thead>\n",
       "    <tr style=\"text-align: right;\">\n",
       "      <th></th>\n",
       "      <th>id_cliente</th>\n",
       "      <th>idade</th>\n",
       "      <th>saldo_atual</th>\n",
       "      <th>divida_atual</th>\n",
       "      <th>renda_anual</th>\n",
       "      <th>valor_em_investimentos</th>\n",
       "      <th>taxa_utilizacao_credito</th>\n",
       "      <th>num_emprestimos</th>\n",
       "      <th>num_contas_bancarias</th>\n",
       "      <th>num_cartoes_credito</th>\n",
       "      <th>dias_atraso_dt_venc</th>\n",
       "      <th>num_pgtos_atrasados</th>\n",
       "      <th>num_consultas_credito</th>\n",
       "      <th>taxa_juros</th>\n",
       "      <th>investe_exterior</th>\n",
       "      <th>pessoa_polit_exp</th>\n",
       "      <th>limite_adicional</th>\n",
       "      <th>classificacao</th>\n",
       "    </tr>\n",
       "  </thead>\n",
       "  <tbody>\n",
       "    <tr>\n",
       "      <th>0</th>\n",
       "      <td>1767</td>\n",
       "      <td>21</td>\n",
       "      <td>278.172008</td>\n",
       "      <td>2577.05</td>\n",
       "      <td>24196.89636</td>\n",
       "      <td>104.306544</td>\n",
       "      <td>31.038763</td>\n",
       "      <td>6</td>\n",
       "      <td>5</td>\n",
       "      <td>7</td>\n",
       "      <td>21</td>\n",
       "      <td>14</td>\n",
       "      <td>9</td>\n",
       "      <td>15</td>\n",
       "      <td>Não</td>\n",
       "      <td>Não</td>\n",
       "      <td>Negar</td>\n",
       "      <td>Negar</td>\n",
       "    </tr>\n",
       "    <tr>\n",
       "      <th>1</th>\n",
       "      <td>11920</td>\n",
       "      <td>40</td>\n",
       "      <td>268.874152</td>\n",
       "      <td>2465.39</td>\n",
       "      <td>19227.37796</td>\n",
       "      <td>69.858778</td>\n",
       "      <td>36.917093</td>\n",
       "      <td>5</td>\n",
       "      <td>8</td>\n",
       "      <td>5</td>\n",
       "      <td>40</td>\n",
       "      <td>23</td>\n",
       "      <td>10</td>\n",
       "      <td>18</td>\n",
       "      <td>Não</td>\n",
       "      <td>Não</td>\n",
       "      <td>Negar</td>\n",
       "      <td>Negar</td>\n",
       "    </tr>\n",
       "    <tr>\n",
       "      <th>2</th>\n",
       "      <td>8910</td>\n",
       "      <td>36</td>\n",
       "      <td>446.643127</td>\n",
       "      <td>1055.29</td>\n",
       "      <td>42822.28223</td>\n",
       "      <td>134.201478</td>\n",
       "      <td>34.561714</td>\n",
       "      <td>0</td>\n",
       "      <td>3</td>\n",
       "      <td>6</td>\n",
       "      <td>26</td>\n",
       "      <td>13</td>\n",
       "      <td>3</td>\n",
       "      <td>15</td>\n",
       "      <td>Sim</td>\n",
       "      <td>Não</td>\n",
       "      <td>Negar</td>\n",
       "      <td>Negar</td>\n",
       "    </tr>\n",
       "    <tr>\n",
       "      <th>3</th>\n",
       "      <td>4964</td>\n",
       "      <td>58</td>\n",
       "      <td>321.141267</td>\n",
       "      <td>703.05</td>\n",
       "      <td>51786.82600</td>\n",
       "      <td>297.350067</td>\n",
       "      <td>31.493561</td>\n",
       "      <td>0</td>\n",
       "      <td>3</td>\n",
       "      <td>7</td>\n",
       "      <td>12</td>\n",
       "      <td>7</td>\n",
       "      <td>2</td>\n",
       "      <td>1</td>\n",
       "      <td>Sim</td>\n",
       "      <td>Não</td>\n",
       "      <td>Negar</td>\n",
       "      <td>Negar</td>\n",
       "    </tr>\n",
       "    <tr>\n",
       "      <th>4</th>\n",
       "      <td>10100</td>\n",
       "      <td>35</td>\n",
       "      <td>428.716114</td>\n",
       "      <td>891.29</td>\n",
       "      <td>44626.85346</td>\n",
       "      <td>134.201478</td>\n",
       "      <td>28.028887</td>\n",
       "      <td>2</td>\n",
       "      <td>8</td>\n",
       "      <td>7</td>\n",
       "      <td>24</td>\n",
       "      <td>10</td>\n",
       "      <td>8</td>\n",
       "      <td>20</td>\n",
       "      <td>Sim</td>\n",
       "      <td>Não</td>\n",
       "      <td>Negar</td>\n",
       "      <td>Negar</td>\n",
       "    </tr>\n",
       "  </tbody>\n",
       "</table>\n",
       "</div>"
      ],
      "text/plain": [
       "   id_cliente  idade  saldo_atual  divida_atual  renda_anual  \\\n",
       "0        1767     21   278.172008       2577.05  24196.89636   \n",
       "1       11920     40   268.874152       2465.39  19227.37796   \n",
       "2        8910     36   446.643127       1055.29  42822.28223   \n",
       "3        4964     58   321.141267        703.05  51786.82600   \n",
       "4       10100     35   428.716114        891.29  44626.85346   \n",
       "\n",
       "   valor_em_investimentos  taxa_utilizacao_credito  num_emprestimos  \\\n",
       "0              104.306544                31.038763                6   \n",
       "1               69.858778                36.917093                5   \n",
       "2              134.201478                34.561714                0   \n",
       "3              297.350067                31.493561                0   \n",
       "4              134.201478                28.028887                2   \n",
       "\n",
       "   num_contas_bancarias  num_cartoes_credito  dias_atraso_dt_venc  \\\n",
       "0                     5                    7                   21   \n",
       "1                     8                    5                   40   \n",
       "2                     3                    6                   26   \n",
       "3                     3                    7                   12   \n",
       "4                     8                    7                   24   \n",
       "\n",
       "   num_pgtos_atrasados  num_consultas_credito  taxa_juros investe_exterior  \\\n",
       "0                   14                      9          15              Não   \n",
       "1                   23                     10          18              Não   \n",
       "2                   13                      3          15              Sim   \n",
       "3                    7                      2           1              Sim   \n",
       "4                   10                      8          20              Sim   \n",
       "\n",
       "  pessoa_polit_exp limite_adicional classificacao  \n",
       "0              Não            Negar         Negar  \n",
       "1              Não            Negar         Negar  \n",
       "2              Não            Negar         Negar  \n",
       "3              Não            Negar         Negar  \n",
       "4              Não            Negar         Negar  "
      ]
     },
     "execution_count": 10,
     "metadata": {},
     "output_type": "execute_result"
    }
   ],
   "source": [
    "df_result = df.copy()\n",
    "df_result['classificacao'] = y_pred\n",
    "df_result.head()"
   ]
  },
  {
   "cell_type": "markdown",
   "id": "51496511",
   "metadata": {},
   "source": [
    "# 5. Performance"
   ]
  },
  {
   "cell_type": "markdown",
   "id": "617f7f31",
   "metadata": {},
   "source": [
    "## 5.1. Matriz de confusão"
   ]
  },
  {
   "cell_type": "code",
   "execution_count": 27,
   "id": "58cccd36",
   "metadata": {
    "ExecuteTime": {
     "end_time": "2023-02-16T02:31:18.144745Z",
     "start_time": "2023-02-16T02:31:18.103419Z"
    }
   },
   "outputs": [
    {
     "data": {
      "text/plain": [
       "array([[ 369, 1136],\n",
       "       [ 203, 7792]])"
      ]
     },
     "execution_count": 27,
     "metadata": {},
     "output_type": "execute_result"
    }
   ],
   "source": [
    "mt.confusion_matrix(y_train, y_pred)"
   ]
  },
  {
   "cell_type": "markdown",
   "id": "a184ce70",
   "metadata": {},
   "source": [
    "## 5.2. Acurácia"
   ]
  },
  {
   "cell_type": "code",
   "execution_count": 28,
   "id": "7b509753",
   "metadata": {
    "ExecuteTime": {
     "end_time": "2023-02-16T02:33:26.688928Z",
     "start_time": "2023-02-16T02:33:26.668009Z"
    }
   },
   "outputs": [
    {
     "data": {
      "text/plain": [
       "0.8590526315789474"
      ]
     },
     "execution_count": 28,
     "metadata": {},
     "output_type": "execute_result"
    }
   ],
   "source": [
    "mt.accuracy_score(y_train, y_pred)"
   ]
  },
  {
   "cell_type": "code",
   "execution_count": null,
   "id": "71b7f543",
   "metadata": {},
   "outputs": [],
   "source": []
  },
  {
   "cell_type": "code",
   "execution_count": null,
   "id": "50798b4f",
   "metadata": {},
   "outputs": [],
   "source": []
  },
  {
   "cell_type": "code",
   "execution_count": null,
   "id": "5e43c2e2",
   "metadata": {},
   "outputs": [],
   "source": []
  },
  {
   "cell_type": "code",
   "execution_count": 11,
   "id": "537486bc",
   "metadata": {
    "ExecuteTime": {
     "end_time": "2023-02-16T02:15:48.358876Z",
     "start_time": "2023-02-16T02:15:48.341662Z"
    }
   },
   "outputs": [
    {
     "data": {
      "text/html": [
       "<div>\n",
       "<style scoped>\n",
       "    .dataframe tbody tr th:only-of-type {\n",
       "        vertical-align: middle;\n",
       "    }\n",
       "\n",
       "    .dataframe tbody tr th {\n",
       "        vertical-align: top;\n",
       "    }\n",
       "\n",
       "    .dataframe thead th {\n",
       "        text-align: right;\n",
       "    }\n",
       "</style>\n",
       "<table border=\"1\" class=\"dataframe\">\n",
       "  <thead>\n",
       "    <tr style=\"text-align: right;\">\n",
       "      <th></th>\n",
       "      <th>id_cliente</th>\n",
       "      <th>idade</th>\n",
       "      <th>saldo_atual</th>\n",
       "      <th>divida_atual</th>\n",
       "      <th>renda_anual</th>\n",
       "      <th>valor_em_investimentos</th>\n",
       "      <th>taxa_utilizacao_credito</th>\n",
       "      <th>num_emprestimos</th>\n",
       "      <th>num_contas_bancarias</th>\n",
       "      <th>num_cartoes_credito</th>\n",
       "      <th>dias_atraso_dt_venc</th>\n",
       "      <th>num_pgtos_atrasados</th>\n",
       "      <th>num_consultas_credito</th>\n",
       "      <th>taxa_juros</th>\n",
       "      <th>investe_exterior</th>\n",
       "      <th>pessoa_polit_exp</th>\n",
       "      <th>limite_adicional</th>\n",
       "      <th>classificacao</th>\n",
       "    </tr>\n",
       "  </thead>\n",
       "  <tbody>\n",
       "    <tr>\n",
       "      <th>6325</th>\n",
       "      <td>28</td>\n",
       "      <td>36</td>\n",
       "      <td>224.640333</td>\n",
       "      <td>1233.10</td>\n",
       "      <td>52761.044000</td>\n",
       "      <td>397.002249</td>\n",
       "      <td>27.980701</td>\n",
       "      <td>1</td>\n",
       "      <td>3</td>\n",
       "      <td>3</td>\n",
       "      <td>11</td>\n",
       "      <td>8</td>\n",
       "      <td>4</td>\n",
       "      <td>18</td>\n",
       "      <td>Sim</td>\n",
       "      <td>Não</td>\n",
       "      <td>Negar</td>\n",
       "      <td>Negar</td>\n",
       "    </tr>\n",
       "    <tr>\n",
       "      <th>5393</th>\n",
       "      <td>8306</td>\n",
       "      <td>40</td>\n",
       "      <td>280.203358</td>\n",
       "      <td>67.59</td>\n",
       "      <td>19628.422310</td>\n",
       "      <td>74.574497</td>\n",
       "      <td>39.277685</td>\n",
       "      <td>2</td>\n",
       "      <td>6</td>\n",
       "      <td>4</td>\n",
       "      <td>7</td>\n",
       "      <td>18</td>\n",
       "      <td>8</td>\n",
       "      <td>20</td>\n",
       "      <td>Não</td>\n",
       "      <td>Não</td>\n",
       "      <td>Negar</td>\n",
       "      <td>Negar</td>\n",
       "    </tr>\n",
       "    <tr>\n",
       "      <th>6887</th>\n",
       "      <td>1986</td>\n",
       "      <td>56</td>\n",
       "      <td>404.375752</td>\n",
       "      <td>1238.55</td>\n",
       "      <td>28365.075865</td>\n",
       "      <td>10000.000000</td>\n",
       "      <td>38.661332</td>\n",
       "      <td>1</td>\n",
       "      <td>0</td>\n",
       "      <td>2</td>\n",
       "      <td>2</td>\n",
       "      <td>5</td>\n",
       "      <td>3</td>\n",
       "      <td>6</td>\n",
       "      <td>Não</td>\n",
       "      <td>Não</td>\n",
       "      <td>Conceder</td>\n",
       "      <td>Negar</td>\n",
       "    </tr>\n",
       "    <tr>\n",
       "      <th>4990</th>\n",
       "      <td>11802</td>\n",
       "      <td>26</td>\n",
       "      <td>221.904746</td>\n",
       "      <td>4578.85</td>\n",
       "      <td>12897.544400</td>\n",
       "      <td>28.474585</td>\n",
       "      <td>30.930985</td>\n",
       "      <td>8</td>\n",
       "      <td>10</td>\n",
       "      <td>5</td>\n",
       "      <td>17</td>\n",
       "      <td>18</td>\n",
       "      <td>12</td>\n",
       "      <td>34</td>\n",
       "      <td>Não</td>\n",
       "      <td>Não</td>\n",
       "      <td>Negar</td>\n",
       "      <td>Negar</td>\n",
       "    </tr>\n",
       "    <tr>\n",
       "      <th>7192</th>\n",
       "      <td>4349</td>\n",
       "      <td>25</td>\n",
       "      <td>290.849524</td>\n",
       "      <td>3536.44</td>\n",
       "      <td>22634.154130</td>\n",
       "      <td>10000.000000</td>\n",
       "      <td>37.681938</td>\n",
       "      <td>9</td>\n",
       "      <td>6</td>\n",
       "      <td>9</td>\n",
       "      <td>37</td>\n",
       "      <td>27</td>\n",
       "      <td>7</td>\n",
       "      <td>3617</td>\n",
       "      <td>Sim</td>\n",
       "      <td>Não</td>\n",
       "      <td>Negar</td>\n",
       "      <td>Negar</td>\n",
       "    </tr>\n",
       "    <tr>\n",
       "      <th>7818</th>\n",
       "      <td>11999</td>\n",
       "      <td>33</td>\n",
       "      <td>1007.320392</td>\n",
       "      <td>705.53</td>\n",
       "      <td>167239.105480</td>\n",
       "      <td>295.899597</td>\n",
       "      <td>30.601809</td>\n",
       "      <td>3</td>\n",
       "      <td>1</td>\n",
       "      <td>7</td>\n",
       "      <td>16</td>\n",
       "      <td>2</td>\n",
       "      <td>1</td>\n",
       "      <td>7</td>\n",
       "      <td>Sim</td>\n",
       "      <td>Não</td>\n",
       "      <td>Negar</td>\n",
       "      <td>Negar</td>\n",
       "    </tr>\n",
       "    <tr>\n",
       "      <th>900</th>\n",
       "      <td>8401</td>\n",
       "      <td>32</td>\n",
       "      <td>433.549737</td>\n",
       "      <td>359.85</td>\n",
       "      <td>76024.993600</td>\n",
       "      <td>370.081930</td>\n",
       "      <td>31.082091</td>\n",
       "      <td>0</td>\n",
       "      <td>6</td>\n",
       "      <td>4</td>\n",
       "      <td>14</td>\n",
       "      <td>18</td>\n",
       "      <td>4</td>\n",
       "      <td>2</td>\n",
       "      <td>Sim</td>\n",
       "      <td>Não</td>\n",
       "      <td>Negar</td>\n",
       "      <td>Negar</td>\n",
       "    </tr>\n",
       "    <tr>\n",
       "      <th>4107</th>\n",
       "      <td>3111</td>\n",
       "      <td>27</td>\n",
       "      <td>254.693938</td>\n",
       "      <td>1065.71</td>\n",
       "      <td>21081.334995</td>\n",
       "      <td>123.112246</td>\n",
       "      <td>28.429245</td>\n",
       "      <td>4</td>\n",
       "      <td>4</td>\n",
       "      <td>3</td>\n",
       "      <td>8</td>\n",
       "      <td>5</td>\n",
       "      <td>0</td>\n",
       "      <td>11</td>\n",
       "      <td>Não</td>\n",
       "      <td>Não</td>\n",
       "      <td>Conceder</td>\n",
       "      <td>Negar</td>\n",
       "    </tr>\n",
       "    <tr>\n",
       "      <th>3259</th>\n",
       "      <td>37</td>\n",
       "      <td>6415</td>\n",
       "      <td>363.272112</td>\n",
       "      <td>3421.66</td>\n",
       "      <td>39813.942980</td>\n",
       "      <td>59.825596</td>\n",
       "      <td>24.639658</td>\n",
       "      <td>5</td>\n",
       "      <td>1231</td>\n",
       "      <td>7</td>\n",
       "      <td>53</td>\n",
       "      <td>21</td>\n",
       "      <td>11</td>\n",
       "      <td>24</td>\n",
       "      <td>Não</td>\n",
       "      <td>Não</td>\n",
       "      <td>Negar</td>\n",
       "      <td>Negar</td>\n",
       "    </tr>\n",
       "    <tr>\n",
       "      <th>3712</th>\n",
       "      <td>2900</td>\n",
       "      <td>29</td>\n",
       "      <td>216.890901</td>\n",
       "      <td>3555.25</td>\n",
       "      <td>57147.352500</td>\n",
       "      <td>134.201478</td>\n",
       "      <td>23.412494</td>\n",
       "      <td>8</td>\n",
       "      <td>8</td>\n",
       "      <td>7</td>\n",
       "      <td>39</td>\n",
       "      <td>14</td>\n",
       "      <td>9</td>\n",
       "      <td>33</td>\n",
       "      <td>Não</td>\n",
       "      <td>Não</td>\n",
       "      <td>Negar</td>\n",
       "      <td>Negar</td>\n",
       "    </tr>\n",
       "    <tr>\n",
       "      <th>1996</th>\n",
       "      <td>1480</td>\n",
       "      <td>60</td>\n",
       "      <td>712.733596</td>\n",
       "      <td>948.79</td>\n",
       "      <td>138330.075760</td>\n",
       "      <td>192.952715</td>\n",
       "      <td>31.515119</td>\n",
       "      <td>4</td>\n",
       "      <td>5</td>\n",
       "      <td>4</td>\n",
       "      <td>3</td>\n",
       "      <td>10</td>\n",
       "      <td>4</td>\n",
       "      <td>10</td>\n",
       "      <td>Não</td>\n",
       "      <td>Não</td>\n",
       "      <td>Negar</td>\n",
       "      <td>Conceder</td>\n",
       "    </tr>\n",
       "    <tr>\n",
       "      <th>4974</th>\n",
       "      <td>11642</td>\n",
       "      <td>24</td>\n",
       "      <td>242.786114</td>\n",
       "      <td>2608.97</td>\n",
       "      <td>44135.892500</td>\n",
       "      <td>211.072920</td>\n",
       "      <td>31.976847</td>\n",
       "      <td>8</td>\n",
       "      <td>6</td>\n",
       "      <td>6</td>\n",
       "      <td>19</td>\n",
       "      <td>18</td>\n",
       "      <td>11</td>\n",
       "      <td>32</td>\n",
       "      <td>Não</td>\n",
       "      <td>Não</td>\n",
       "      <td>Negar</td>\n",
       "      <td>Negar</td>\n",
       "    </tr>\n",
       "    <tr>\n",
       "      <th>7976</th>\n",
       "      <td>6325</td>\n",
       "      <td>55</td>\n",
       "      <td>373.052004</td>\n",
       "      <td>537.81</td>\n",
       "      <td>46541.572000</td>\n",
       "      <td>87.626184</td>\n",
       "      <td>39.015538</td>\n",
       "      <td>4</td>\n",
       "      <td>1</td>\n",
       "      <td>6</td>\n",
       "      <td>11</td>\n",
       "      <td>3</td>\n",
       "      <td>0</td>\n",
       "      <td>1</td>\n",
       "      <td>Não</td>\n",
       "      <td>Não</td>\n",
       "      <td>Negar</td>\n",
       "      <td>Negar</td>\n",
       "    </tr>\n",
       "    <tr>\n",
       "      <th>2095</th>\n",
       "      <td>10812</td>\n",
       "      <td>22</td>\n",
       "      <td>399.707132</td>\n",
       "      <td>843.89</td>\n",
       "      <td>46860.709000</td>\n",
       "      <td>148.382437</td>\n",
       "      <td>29.082083</td>\n",
       "      <td>100</td>\n",
       "      <td>1</td>\n",
       "      <td>3</td>\n",
       "      <td>7</td>\n",
       "      <td>0</td>\n",
       "      <td>0</td>\n",
       "      <td>2</td>\n",
       "      <td>Não</td>\n",
       "      <td>Não</td>\n",
       "      <td>Negar</td>\n",
       "      <td>Conceder</td>\n",
       "    </tr>\n",
       "    <tr>\n",
       "      <th>3843</th>\n",
       "      <td>2651</td>\n",
       "      <td>42</td>\n",
       "      <td>559.551253</td>\n",
       "      <td>1315.40</td>\n",
       "      <td>75275.833500</td>\n",
       "      <td>64.282833</td>\n",
       "      <td>33.667854</td>\n",
       "      <td>6</td>\n",
       "      <td>7</td>\n",
       "      <td>8</td>\n",
       "      <td>46</td>\n",
       "      <td>20</td>\n",
       "      <td>8</td>\n",
       "      <td>25</td>\n",
       "      <td>Não</td>\n",
       "      <td>Não</td>\n",
       "      <td>Negar</td>\n",
       "      <td>Negar</td>\n",
       "    </tr>\n",
       "  </tbody>\n",
       "</table>\n",
       "</div>"
      ],
      "text/plain": [
       "      id_cliente  idade  saldo_atual  divida_atual    renda_anual  \\\n",
       "6325          28     36   224.640333       1233.10   52761.044000   \n",
       "5393        8306     40   280.203358         67.59   19628.422310   \n",
       "6887        1986     56   404.375752       1238.55   28365.075865   \n",
       "4990       11802     26   221.904746       4578.85   12897.544400   \n",
       "7192        4349     25   290.849524       3536.44   22634.154130   \n",
       "7818       11999     33  1007.320392        705.53  167239.105480   \n",
       "900         8401     32   433.549737        359.85   76024.993600   \n",
       "4107        3111     27   254.693938       1065.71   21081.334995   \n",
       "3259          37   6415   363.272112       3421.66   39813.942980   \n",
       "3712        2900     29   216.890901       3555.25   57147.352500   \n",
       "1996        1480     60   712.733596        948.79  138330.075760   \n",
       "4974       11642     24   242.786114       2608.97   44135.892500   \n",
       "7976        6325     55   373.052004        537.81   46541.572000   \n",
       "2095       10812     22   399.707132        843.89   46860.709000   \n",
       "3843        2651     42   559.551253       1315.40   75275.833500   \n",
       "\n",
       "      valor_em_investimentos  taxa_utilizacao_credito  num_emprestimos  \\\n",
       "6325              397.002249                27.980701                1   \n",
       "5393               74.574497                39.277685                2   \n",
       "6887            10000.000000                38.661332                1   \n",
       "4990               28.474585                30.930985                8   \n",
       "7192            10000.000000                37.681938                9   \n",
       "7818              295.899597                30.601809                3   \n",
       "900               370.081930                31.082091                0   \n",
       "4107              123.112246                28.429245                4   \n",
       "3259               59.825596                24.639658                5   \n",
       "3712              134.201478                23.412494                8   \n",
       "1996              192.952715                31.515119                4   \n",
       "4974              211.072920                31.976847                8   \n",
       "7976               87.626184                39.015538                4   \n",
       "2095              148.382437                29.082083              100   \n",
       "3843               64.282833                33.667854                6   \n",
       "\n",
       "      num_contas_bancarias  num_cartoes_credito  dias_atraso_dt_venc  \\\n",
       "6325                     3                    3                   11   \n",
       "5393                     6                    4                    7   \n",
       "6887                     0                    2                    2   \n",
       "4990                    10                    5                   17   \n",
       "7192                     6                    9                   37   \n",
       "7818                     1                    7                   16   \n",
       "900                      6                    4                   14   \n",
       "4107                     4                    3                    8   \n",
       "3259                  1231                    7                   53   \n",
       "3712                     8                    7                   39   \n",
       "1996                     5                    4                    3   \n",
       "4974                     6                    6                   19   \n",
       "7976                     1                    6                   11   \n",
       "2095                     1                    3                    7   \n",
       "3843                     7                    8                   46   \n",
       "\n",
       "      num_pgtos_atrasados  num_consultas_credito  taxa_juros investe_exterior  \\\n",
       "6325                    8                      4          18              Sim   \n",
       "5393                   18                      8          20              Não   \n",
       "6887                    5                      3           6              Não   \n",
       "4990                   18                     12          34              Não   \n",
       "7192                   27                      7        3617              Sim   \n",
       "7818                    2                      1           7              Sim   \n",
       "900                    18                      4           2              Sim   \n",
       "4107                    5                      0          11              Não   \n",
       "3259                   21                     11          24              Não   \n",
       "3712                   14                      9          33              Não   \n",
       "1996                   10                      4          10              Não   \n",
       "4974                   18                     11          32              Não   \n",
       "7976                    3                      0           1              Não   \n",
       "2095                    0                      0           2              Não   \n",
       "3843                   20                      8          25              Não   \n",
       "\n",
       "     pessoa_polit_exp limite_adicional classificacao  \n",
       "6325              Não            Negar         Negar  \n",
       "5393              Não            Negar         Negar  \n",
       "6887              Não         Conceder         Negar  \n",
       "4990              Não            Negar         Negar  \n",
       "7192              Não            Negar         Negar  \n",
       "7818              Não            Negar         Negar  \n",
       "900               Não            Negar         Negar  \n",
       "4107              Não         Conceder         Negar  \n",
       "3259              Não            Negar         Negar  \n",
       "3712              Não            Negar         Negar  \n",
       "1996              Não            Negar      Conceder  \n",
       "4974              Não            Negar         Negar  \n",
       "7976              Não            Negar         Negar  \n",
       "2095              Não            Negar      Conceder  \n",
       "3843              Não            Negar         Negar  "
      ]
     },
     "execution_count": 11,
     "metadata": {},
     "output_type": "execute_result"
    }
   ],
   "source": [
    "df_result.sample(15)"
   ]
  },
  {
   "cell_type": "markdown",
   "id": "eeb2ae78",
   "metadata": {},
   "source": [
    "- O algortimo pode cometer alguns erros. \n",
    "- Usamos métricas para ver o quão bom ele é na classificação."
   ]
  },
  {
   "cell_type": "code",
   "execution_count": 16,
   "id": "2eb9584b",
   "metadata": {
    "ExecuteTime": {
     "end_time": "2023-02-16T02:26:35.911410Z",
     "start_time": "2023-02-16T02:26:35.808660Z"
    }
   },
   "outputs": [],
   "source": [
    "df_result['acertos'] = (df_result.loc[:, ['id_cliente', 'limite_adicional', 'classificacao']].apply(lambda x: 1 if x['limite_adicional'] == x['classificacao'] else 0, axis=1))"
   ]
  },
  {
   "cell_type": "code",
   "execution_count": 17,
   "id": "a84e3d25",
   "metadata": {
    "ExecuteTime": {
     "end_time": "2023-02-16T02:27:22.551214Z",
     "start_time": "2023-02-16T02:27:22.540980Z"
    }
   },
   "outputs": [
    {
     "data": {
      "text/html": [
       "<div>\n",
       "<style scoped>\n",
       "    .dataframe tbody tr th:only-of-type {\n",
       "        vertical-align: middle;\n",
       "    }\n",
       "\n",
       "    .dataframe tbody tr th {\n",
       "        vertical-align: top;\n",
       "    }\n",
       "\n",
       "    .dataframe thead th {\n",
       "        text-align: right;\n",
       "    }\n",
       "</style>\n",
       "<table border=\"1\" class=\"dataframe\">\n",
       "  <thead>\n",
       "    <tr style=\"text-align: right;\">\n",
       "      <th></th>\n",
       "      <th>id_cliente</th>\n",
       "      <th>idade</th>\n",
       "      <th>limite_adicional</th>\n",
       "      <th>classificacao</th>\n",
       "      <th>acertos</th>\n",
       "    </tr>\n",
       "  </thead>\n",
       "  <tbody>\n",
       "    <tr>\n",
       "      <th>9465</th>\n",
       "      <td>2008</td>\n",
       "      <td>42</td>\n",
       "      <td>Conceder</td>\n",
       "      <td>Negar</td>\n",
       "      <td>0</td>\n",
       "    </tr>\n",
       "    <tr>\n",
       "      <th>3800</th>\n",
       "      <td>3922</td>\n",
       "      <td>35</td>\n",
       "      <td>Negar</td>\n",
       "      <td>Negar</td>\n",
       "      <td>1</td>\n",
       "    </tr>\n",
       "    <tr>\n",
       "      <th>5275</th>\n",
       "      <td>3800</td>\n",
       "      <td>41</td>\n",
       "      <td>Negar</td>\n",
       "      <td>Negar</td>\n",
       "      <td>1</td>\n",
       "    </tr>\n",
       "    <tr>\n",
       "      <th>1041</th>\n",
       "      <td>304</td>\n",
       "      <td>34</td>\n",
       "      <td>Negar</td>\n",
       "      <td>Negar</td>\n",
       "      <td>1</td>\n",
       "    </tr>\n",
       "    <tr>\n",
       "      <th>3988</th>\n",
       "      <td>11978</td>\n",
       "      <td>30</td>\n",
       "      <td>Negar</td>\n",
       "      <td>Negar</td>\n",
       "      <td>1</td>\n",
       "    </tr>\n",
       "    <tr>\n",
       "      <th>7026</th>\n",
       "      <td>9690</td>\n",
       "      <td>44</td>\n",
       "      <td>Negar</td>\n",
       "      <td>Negar</td>\n",
       "      <td>1</td>\n",
       "    </tr>\n",
       "    <tr>\n",
       "      <th>897</th>\n",
       "      <td>8241</td>\n",
       "      <td>18</td>\n",
       "      <td>Negar</td>\n",
       "      <td>Negar</td>\n",
       "      <td>1</td>\n",
       "    </tr>\n",
       "    <tr>\n",
       "      <th>911</th>\n",
       "      <td>4681</td>\n",
       "      <td>40</td>\n",
       "      <td>Conceder</td>\n",
       "      <td>Negar</td>\n",
       "      <td>0</td>\n",
       "    </tr>\n",
       "    <tr>\n",
       "      <th>5535</th>\n",
       "      <td>8095</td>\n",
       "      <td>31</td>\n",
       "      <td>Negar</td>\n",
       "      <td>Negar</td>\n",
       "      <td>1</td>\n",
       "    </tr>\n",
       "    <tr>\n",
       "      <th>3727</th>\n",
       "      <td>8361</td>\n",
       "      <td>33</td>\n",
       "      <td>Conceder</td>\n",
       "      <td>Negar</td>\n",
       "      <td>0</td>\n",
       "    </tr>\n",
       "  </tbody>\n",
       "</table>\n",
       "</div>"
      ],
      "text/plain": [
       "      id_cliente  idade limite_adicional classificacao  acertos\n",
       "9465        2008     42         Conceder         Negar        0\n",
       "3800        3922     35            Negar         Negar        1\n",
       "5275        3800     41            Negar         Negar        1\n",
       "1041         304     34            Negar         Negar        1\n",
       "3988       11978     30            Negar         Negar        1\n",
       "7026        9690     44            Negar         Negar        1\n",
       "897         8241     18            Negar         Negar        1\n",
       "911         4681     40         Conceder         Negar        0\n",
       "5535        8095     31            Negar         Negar        1\n",
       "3727        8361     33         Conceder         Negar        0"
      ]
     },
     "execution_count": 17,
     "metadata": {},
     "output_type": "execute_result"
    }
   ],
   "source": [
    "df_result.loc[:, ['id_cliente', 'idade', 'limite_adicional', 'classificacao', 'acertos']].sample(10)"
   ]
  },
  {
   "cell_type": "code",
   "execution_count": 18,
   "id": "32dc72b1",
   "metadata": {
    "ExecuteTime": {
     "end_time": "2023-02-16T02:28:02.278436Z",
     "start_time": "2023-02-16T02:28:02.274543Z"
    }
   },
   "outputs": [
    {
     "data": {
      "text/plain": [
       "8161"
      ]
     },
     "execution_count": 18,
     "metadata": {},
     "output_type": "execute_result"
    }
   ],
   "source": [
    "df_result['acertos'].sum()"
   ]
  },
  {
   "cell_type": "code",
   "execution_count": 19,
   "id": "b6d2ac51",
   "metadata": {
    "ExecuteTime": {
     "end_time": "2023-02-16T02:28:08.633271Z",
     "start_time": "2023-02-16T02:28:08.629222Z"
    }
   },
   "outputs": [
    {
     "data": {
      "text/plain": [
       "(9500, 19)"
      ]
     },
     "execution_count": 19,
     "metadata": {},
     "output_type": "execute_result"
    }
   ],
   "source": [
    "df_result.shape"
   ]
  },
  {
   "cell_type": "code",
   "execution_count": 24,
   "id": "2e320212",
   "metadata": {
    "ExecuteTime": {
     "end_time": "2023-02-16T02:29:40.986707Z",
     "start_time": "2023-02-16T02:29:40.983657Z"
    }
   },
   "outputs": [
    {
     "name": "stdout",
     "output_type": "stream",
     "text": [
      "Acuracia: 85.91%\n"
     ]
    }
   ],
   "source": [
    "print('Acuracia: {:.2f}%'.format (100*(8161/9500)))"
   ]
  },
  {
   "cell_type": "code",
   "execution_count": null,
   "id": "4177ff13",
   "metadata": {},
   "outputs": [],
   "source": []
  }
 ],
 "metadata": {
  "kernelspec": {
   "display_name": "Python 3 (ipykernel)",
   "language": "python",
   "name": "python3"
  },
  "language_info": {
   "codemirror_mode": {
    "name": "ipython",
    "version": 3
   },
   "file_extension": ".py",
   "mimetype": "text/x-python",
   "name": "python",
   "nbconvert_exporter": "python",
   "pygments_lexer": "ipython3",
   "version": "3.9.13"
  }
 },
 "nbformat": 4,
 "nbformat_minor": 5
}
